{
 "cells": [
  {
   "cell_type": "code",
   "execution_count": 1,
   "metadata": {},
   "outputs": [],
   "source": [
    "# Run this Jupyter workbook to process your own HB occupancy csv file\n",
    "from DataProcessor import*\n",
    "import os\n",
    "os.chdir(\"/home/matrix/\")\n",
    "\n",
    "#Update your parameters\n",
    "resolution = 5.0 #minutes\n",
    "holdingBayWorkbook = \"OutputData/holdingBayOccupancy.csv\" #name of file you want to convert (output from main EP/CATH code)\n",
    "\n",
    "#Run the code (output will always be saved in \"OutputData/HBDataMelt.csv\")\n",
    "formatDataFileForVisualization(resolution, holdingBayWorkbook) "
   ]
  }
 ],
 "metadata": {
  "kernelspec": {
   "display_name": "Python 2",
   "language": "python",
   "name": "python2"
  },
  "language_info": {
   "codemirror_mode": {
    "name": "ipython",
    "version": 2
   },
   "file_extension": ".py",
   "mimetype": "text/x-python",
   "name": "python",
   "nbconvert_exporter": "python",
   "pygments_lexer": "ipython2",
   "version": "2.7.12"
  }
 },
 "nbformat": 4,
 "nbformat_minor": 2
}
