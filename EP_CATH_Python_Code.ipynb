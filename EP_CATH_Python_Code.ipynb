{
  "nbformat": 4,
  "nbformat_minor": 0,
  "metadata": {
    "kernelspec": {
      "display_name": "Python 2",
      "language": "python",
      "name": "python2"
    },
    "language_info": {
      "codemirror_mode": {
        "name": "ipython",
        "version": 2
      },
      "file_extension": ".py",
      "mimetype": "text/x-python",
      "name": "python",
      "nbconvert_exporter": "python",
      "pygments_lexer": "ipython2",
      "version": "2.7.12"
    },
    "colab": {
      "name": "Copy of EP_CATH Python Code.ipynb",
      "provenance": [],
      "collapsed_sections": []
    }
  },
  "cells": [
    {
      "cell_type": "markdown",
      "metadata": {
        "id": "iE5nrntrAPWU",
        "colab_type": "text"
      },
      "source": [
        "### EP_CATH Python Code\n",
        "adapted from @nicseo 11/20/14. Last updated @cindiewu 07/14/20.\n",
        "##### To start a new simulation, go to the menu Runtime --> 'Restart and Run All'"
      ]
    },
    {
      "cell_type": "code",
      "metadata": {
        "id": "_dqist9fAPWV",
        "colab_type": "code",
        "colab": {}
      },
      "source": [
        "!git clone https://github.com/empracine/test-epcath.git"
      ],
      "execution_count": null,
      "outputs": []
    },
    {
      "cell_type": "code",
      "metadata": {
        "id": "lxnm0t5IqmpM",
        "colab_type": "code",
        "colab": {}
      },
      "source": [
        "#Click this kernel to when starting the simulation (and/or run another scenario)\n",
        "import os\n",
        "os.chdir(\"/content/test-epcath/\")\n",
        "\n",
        "import Simulation\n",
        "Simulation.Start()"
      ],
      "execution_count": null,
      "outputs": []
    },
    {
      "cell_type": "markdown",
      "metadata": {
        "id": "o5N9aoe8A0OU",
        "colab_type": "text"
      },
      "source": [
        "To save the output file for visualization, open Files (Refresh), go to the OutputData folder and Download the \"HBDataMelt.csv\" file"
      ]
    }
  ]
}